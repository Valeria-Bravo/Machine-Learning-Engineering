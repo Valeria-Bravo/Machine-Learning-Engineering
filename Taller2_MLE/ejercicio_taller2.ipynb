{
 "cells": [
  {
   "cell_type": "markdown",
   "id": "f6a34b2a",
   "metadata": {},
   "source": [
    "Estudiante: Valeria Esperanza Bravo Saines"
   ]
  },
  {
   "cell_type": "markdown",
   "id": "7bc80a42",
   "metadata": {},
   "source": [
    "Caso Taller 2:\n"
   ]
  }
 ],
 "metadata": {
  "language_info": {
   "name": "python"
  }
 },
 "nbformat": 4,
 "nbformat_minor": 5
}
