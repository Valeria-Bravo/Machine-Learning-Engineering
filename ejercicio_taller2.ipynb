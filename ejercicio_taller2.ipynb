{
 "cells": [
  {
   "cell_type": "markdown",
   "id": "f6a34b2a",
   "metadata": {},
   "source": [
    " - Taller 2\n",
    " - Estudiante: Valeria Esperanza Bravo Saines"
   ]
  },
  {
   "cell_type": "markdown",
   "id": "7bc80a42",
   "metadata": {},
   "source": [
    "CASO 8 – LA FUGA DORADA: Cómo salvar a los clientes valiosos antes de que cierren a su cuenta\n",
    "El banco BankUnity quiere predecir qué clientes van a cerrar su cuenta para poder retenerlos antes de que se vayan.\n",
    "\n",
    "Objetivo:\n",
    "Construir un modelo predictivo explicable para predecir cerrara_cuenta, evaluar métricas, \n",
    "simular escenarios, y responder preguntas estratégicas para negocio."
   ]
  },
  {
   "cell_type": "code",
   "execution_count": 2,
   "id": "2f2d3b43",
   "metadata": {},
   "outputs": [],
   "source": [
    "import pandas as pd\n",
    "import numpy as np\n",
    "import matplotlib.pyplot as plt\n",
    "import seaborn as sns\n",
    "import warnings; warnings.filterwarnings('ignore')\n",
    "\n",
    "from pycaret.classification import *\n",
    "from sklearn.metrics import roc_curve"
   ]
  }
 ],
 "metadata": {
  "kernelspec": {
   "display_name": "Python 3",
   "language": "python",
   "name": "python3"
  },
  "language_info": {
   "codemirror_mode": {
    "name": "ipython",
    "version": 3
   },
   "file_extension": ".py",
   "mimetype": "text/x-python",
   "name": "python",
   "nbconvert_exporter": "python",
   "pygments_lexer": "ipython3",
   "version": "3.11.9"
  }
 },
 "nbformat": 4,
 "nbformat_minor": 5
}
