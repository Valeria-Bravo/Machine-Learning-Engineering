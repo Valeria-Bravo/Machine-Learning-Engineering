{
 "cells": [
  {
   "cell_type": "markdown",
   "id": "33d76fb3",
   "metadata": {},
   "source": [
    "EMPEZAMOS INSTALANDO LA LIBRERIA REQUERIDA"
   ]
  },
  {
   "cell_type": "markdown",
   "id": "8769943c",
   "metadata": {},
   "source": [
    "Instalación de Pycaret:\n",
    "\n",
    "Pipeline de pycaret:\n",
    "\n",
    "1. Setup(): Definir el dataset y parámetros\n",
    "\n",
    "2. Compare_models(): Comparar multiples modelos y los rankear\n",
    "\n",
    "3. Create model(): Crear un modelo específico\n",
    "\n",
    "4. Tune_model(): Ajuste automático de hiperparámetros\n",
    "\n",
    "5. plot_model(): visualizar el desempeño del modelo\n",
    "\n",
    "6. Evaluate_model(): Evaluación del modelo\n",
    "\n",
    "7. Predict_model(): Predicciones sobre nuevos datos en el DF\n",
    "\n",
    "8. Save_model/load_model(): Guardar y cargar el modelo\n"
   ]
  },
  {
   "cell_type": "markdown",
   "id": "c3aac369",
   "metadata": {},
   "source": [
    "CASO: Predicción de precios de departamentos en Lima:\n",
    "\n",
    "Objetivo: Construir un modelo de regresión automático con pycaret para predecir el precio de departamentos en base a sus features\n"
   ]
  },
  {
   "cell_type": "code",
   "execution_count": 1,
   "id": "566a2907",
   "metadata": {},
   "outputs": [
    {
     "name": "stdout",
     "output_type": "stream",
     "text": [
      "3.3.2\n"
     ]
    }
   ],
   "source": [
    "import pycaret\n",
    "print(pycaret.__version__)"
   ]
  },
  {
   "cell_type": "code",
   "execution_count": 3,
   "id": "040be17b",
   "metadata": {},
   "outputs": [],
   "source": [
    "from pycaret.datasets import get_data\n",
    "from pycaret.classification import setup, compare_models"
   ]
  },
  {
   "cell_type": "code",
   "execution_count": 2,
   "id": "bd7fa66a",
   "metadata": {},
   "outputs": [
    {
     "name": "stderr",
     "output_type": "stream",
     "text": [
      "Matplotlib is building the font cache; this may take a moment.\n"
     ]
    }
   ],
   "source": [
    "import pandas as pd\n",
    "from pycaret.regression import *\n"
   ]
  },
  {
   "cell_type": "code",
   "execution_count": 5,
   "id": "2556f44e",
   "metadata": {},
   "outputs": [],
   "source": [
    "#1. Cargamos la data\n",
    "df = pd.read_csv(r'C:\\Users\\vbravo\\Downloads\\Material sesión 05-ML E\\03. Aplica\\precio_departamentos.csv')\n"
   ]
  }
 ],
 "metadata": {
  "kernelspec": {
   "display_name": "Python 3",
   "language": "python",
   "name": "python3"
  },
  "language_info": {
   "codemirror_mode": {
    "name": "ipython",
    "version": 3
   },
   "file_extension": ".py",
   "mimetype": "text/x-python",
   "name": "python",
   "nbconvert_exporter": "python",
   "pygments_lexer": "ipython3",
   "version": "3.11.9"
  }
 },
 "nbformat": 4,
 "nbformat_minor": 5
}
