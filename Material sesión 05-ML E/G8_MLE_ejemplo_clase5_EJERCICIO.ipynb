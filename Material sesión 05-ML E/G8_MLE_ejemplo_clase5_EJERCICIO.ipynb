{
 "cells": [
  {
   "cell_type": "markdown",
   "id": "f26b2c0c",
   "metadata": {},
   "source": [
    "Estudiante: Valeria Esperanza Bravo Saines"
   ]
  },
  {
   "cell_type": "markdown",
   "id": "6fa142c7",
   "metadata": {},
   "source": [
    "Instalación de Pycaret:\n",
    "\n",
    "Pipeline de pycaret:\n",
    "\n",
    "1. Setup(): Definir el dataset y parámetros\n",
    "\n",
    "2. Compare_models(): Comparar multiples modelos y los rankear\n",
    "\n",
    "3. Create model(): Crear un modelo específico\n",
    "\n",
    "4. Tune_model(): Ajuste automático de hiperparámetros\n",
    "\n",
    "5. plot_model(): visualizar el desempeño del modelo\n",
    "\n",
    "6. Evaluate_model(): Evaluación del modelo\n",
    "\n",
    "7. Predict_model(): Predicciones sobre nuevos datos en el DF\n",
    "\n",
    "8. Save_model/load_model(): Guardar y cargar el modelo"
   ]
  },
  {
   "cell_type": "code",
   "execution_count": 9,
   "id": "c1153650",
   "metadata": {},
   "outputs": [
    {
     "name": "stdout",
     "output_type": "stream",
     "text": [
      "3.3.2\n"
     ]
    }
   ],
   "source": [
    "import pycaret\n",
    "print(pycaret.__version__)"
   ]
  },
  {
   "cell_type": "code",
   "execution_count": 10,
   "id": "efdf50ac",
   "metadata": {},
   "outputs": [],
   "source": [
    "import pandas as pd\n",
    "from pycaret.classification import setup, compare_models, create_model, evaluate_model, save_model\n",
    "from pycaret.classification import pull\n",
    "from pycaret.classification import *\n"
   ]
  },
  {
   "cell_type": "code",
   "execution_count": null,
   "id": "d3bfbdac",
   "metadata": {},
   "outputs": [],
   "source": [
    "df = pd.read_csv('ds_credito_vehicular.csv')"
   ]
  },
  {
   "cell_type": "code",
   "execution_count": 12,
   "id": "7103e229",
   "metadata": {},
   "outputs": [
    {
     "name": "stdout",
     "output_type": "stream",
     "text": [
      "c:\\Users\\vbravo\\Downloads\\CLASE 5 -MLE\\Machine-Learning-Engineering\\Material sesión 05-ML E\n"
     ]
    }
   ],
   "source": [
    "import os\n",
    "print(os.getcwd())"
   ]
  },
  {
   "cell_type": "code",
   "execution_count": 13,
   "id": "454b28a4",
   "metadata": {},
   "outputs": [
    {
     "data": {
      "text/html": [
       "<div>\n",
       "<style scoped>\n",
       "    .dataframe tbody tr th:only-of-type {\n",
       "        vertical-align: middle;\n",
       "    }\n",
       "\n",
       "    .dataframe tbody tr th {\n",
       "        vertical-align: top;\n",
       "    }\n",
       "\n",
       "    .dataframe thead th {\n",
       "        text-align: right;\n",
       "    }\n",
       "</style>\n",
       "<table border=\"1\" class=\"dataframe\">\n",
       "  <thead>\n",
       "    <tr style=\"text-align: right;\">\n",
       "      <th></th>\n",
       "      <th>edad</th>\n",
       "      <th>ingresos_mensuales</th>\n",
       "      <th>estado_civil</th>\n",
       "      <th>historia_credito</th>\n",
       "      <th>nro_creditos_previos</th>\n",
       "      <th>cuota_vs_ingreso</th>\n",
       "      <th>vehiculo_propio</th>\n",
       "      <th>default</th>\n",
       "    </tr>\n",
       "  </thead>\n",
       "  <tbody>\n",
       "    <tr>\n",
       "      <th>0</th>\n",
       "      <td>59</td>\n",
       "      <td>7668</td>\n",
       "      <td>Divorciado</td>\n",
       "      <td>Buena</td>\n",
       "      <td>2</td>\n",
       "      <td>0.64</td>\n",
       "      <td>0</td>\n",
       "      <td>1</td>\n",
       "    </tr>\n",
       "    <tr>\n",
       "      <th>1</th>\n",
       "      <td>49</td>\n",
       "      <td>6279</td>\n",
       "      <td>Casado</td>\n",
       "      <td>Buena</td>\n",
       "      <td>2</td>\n",
       "      <td>0.31</td>\n",
       "      <td>1</td>\n",
       "      <td>1</td>\n",
       "    </tr>\n",
       "    <tr>\n",
       "      <th>2</th>\n",
       "      <td>35</td>\n",
       "      <td>2722</td>\n",
       "      <td>Soltero</td>\n",
       "      <td>Mala</td>\n",
       "      <td>4</td>\n",
       "      <td>0.41</td>\n",
       "      <td>1</td>\n",
       "      <td>0</td>\n",
       "    </tr>\n",
       "    <tr>\n",
       "      <th>3</th>\n",
       "      <td>63</td>\n",
       "      <td>4314</td>\n",
       "      <td>Divorciado</td>\n",
       "      <td>Regular</td>\n",
       "      <td>4</td>\n",
       "      <td>0.57</td>\n",
       "      <td>0</td>\n",
       "      <td>0</td>\n",
       "    </tr>\n",
       "    <tr>\n",
       "      <th>4</th>\n",
       "      <td>28</td>\n",
       "      <td>4157</td>\n",
       "      <td>Soltero</td>\n",
       "      <td>Buena</td>\n",
       "      <td>1</td>\n",
       "      <td>0.34</td>\n",
       "      <td>0</td>\n",
       "      <td>0</td>\n",
       "    </tr>\n",
       "  </tbody>\n",
       "</table>\n",
       "</div>"
      ],
      "text/plain": [
       "   edad  ingresos_mensuales estado_civil historia_credito  \\\n",
       "0    59                7668   Divorciado            Buena   \n",
       "1    49                6279       Casado            Buena   \n",
       "2    35                2722      Soltero             Mala   \n",
       "3    63                4314   Divorciado          Regular   \n",
       "4    28                4157      Soltero            Buena   \n",
       "\n",
       "   nro_creditos_previos  cuota_vs_ingreso  vehiculo_propio  default  \n",
       "0                     2              0.64                0        1  \n",
       "1                     2              0.31                1        1  \n",
       "2                     4              0.41                1        0  \n",
       "3                     4              0.57                0        0  \n",
       "4                     1              0.34                0        0  "
      ]
     },
     "execution_count": 13,
     "metadata": {},
     "output_type": "execute_result"
    }
   ],
   "source": [
    "df.head()"
   ]
  },
  {
   "cell_type": "code",
   "execution_count": 14,
   "id": "a25b33b9",
   "metadata": {},
   "outputs": [
    {
     "data": {
      "text/html": [
       "<style type=\"text/css\">\n",
       "#T_d6a99_row9_col1, #T_d6a99_row15_col1, #T_d6a99_row17_col1 {\n",
       "  background-color: lightgreen;\n",
       "}\n",
       "</style>\n",
       "<table id=\"T_d6a99\">\n",
       "  <thead>\n",
       "    <tr>\n",
       "      <th class=\"blank level0\" >&nbsp;</th>\n",
       "      <th id=\"T_d6a99_level0_col0\" class=\"col_heading level0 col0\" >Description</th>\n",
       "      <th id=\"T_d6a99_level0_col1\" class=\"col_heading level0 col1\" >Value</th>\n",
       "    </tr>\n",
       "  </thead>\n",
       "  <tbody>\n",
       "    <tr>\n",
       "      <th id=\"T_d6a99_level0_row0\" class=\"row_heading level0 row0\" >0</th>\n",
       "      <td id=\"T_d6a99_row0_col0\" class=\"data row0 col0\" >Session id</td>\n",
       "      <td id=\"T_d6a99_row0_col1\" class=\"data row0 col1\" >124</td>\n",
       "    </tr>\n",
       "    <tr>\n",
       "      <th id=\"T_d6a99_level0_row1\" class=\"row_heading level0 row1\" >1</th>\n",
       "      <td id=\"T_d6a99_row1_col0\" class=\"data row1 col0\" >Target</td>\n",
       "      <td id=\"T_d6a99_row1_col1\" class=\"data row1 col1\" >default</td>\n",
       "    </tr>\n",
       "    <tr>\n",
       "      <th id=\"T_d6a99_level0_row2\" class=\"row_heading level0 row2\" >2</th>\n",
       "      <td id=\"T_d6a99_row2_col0\" class=\"data row2 col0\" >Target type</td>\n",
       "      <td id=\"T_d6a99_row2_col1\" class=\"data row2 col1\" >Binary</td>\n",
       "    </tr>\n",
       "    <tr>\n",
       "      <th id=\"T_d6a99_level0_row3\" class=\"row_heading level0 row3\" >3</th>\n",
       "      <td id=\"T_d6a99_row3_col0\" class=\"data row3 col0\" >Original data shape</td>\n",
       "      <td id=\"T_d6a99_row3_col1\" class=\"data row3 col1\" >(150, 8)</td>\n",
       "    </tr>\n",
       "    <tr>\n",
       "      <th id=\"T_d6a99_level0_row4\" class=\"row_heading level0 row4\" >4</th>\n",
       "      <td id=\"T_d6a99_row4_col0\" class=\"data row4 col0\" >Transformed data shape</td>\n",
       "      <td id=\"T_d6a99_row4_col1\" class=\"data row4 col1\" >(219, 12)</td>\n",
       "    </tr>\n",
       "    <tr>\n",
       "      <th id=\"T_d6a99_level0_row5\" class=\"row_heading level0 row5\" >5</th>\n",
       "      <td id=\"T_d6a99_row5_col0\" class=\"data row5 col0\" >Transformed train set shape</td>\n",
       "      <td id=\"T_d6a99_row5_col1\" class=\"data row5 col1\" >(174, 12)</td>\n",
       "    </tr>\n",
       "    <tr>\n",
       "      <th id=\"T_d6a99_level0_row6\" class=\"row_heading level0 row6\" >6</th>\n",
       "      <td id=\"T_d6a99_row6_col0\" class=\"data row6 col0\" >Transformed test set shape</td>\n",
       "      <td id=\"T_d6a99_row6_col1\" class=\"data row6 col1\" >(45, 12)</td>\n",
       "    </tr>\n",
       "    <tr>\n",
       "      <th id=\"T_d6a99_level0_row7\" class=\"row_heading level0 row7\" >7</th>\n",
       "      <td id=\"T_d6a99_row7_col0\" class=\"data row7 col0\" >Numeric features</td>\n",
       "      <td id=\"T_d6a99_row7_col1\" class=\"data row7 col1\" >4</td>\n",
       "    </tr>\n",
       "    <tr>\n",
       "      <th id=\"T_d6a99_level0_row8\" class=\"row_heading level0 row8\" >8</th>\n",
       "      <td id=\"T_d6a99_row8_col0\" class=\"data row8 col0\" >Categorical features</td>\n",
       "      <td id=\"T_d6a99_row8_col1\" class=\"data row8 col1\" >3</td>\n",
       "    </tr>\n",
       "    <tr>\n",
       "      <th id=\"T_d6a99_level0_row9\" class=\"row_heading level0 row9\" >9</th>\n",
       "      <td id=\"T_d6a99_row9_col0\" class=\"data row9 col0\" >Preprocess</td>\n",
       "      <td id=\"T_d6a99_row9_col1\" class=\"data row9 col1\" >True</td>\n",
       "    </tr>\n",
       "    <tr>\n",
       "      <th id=\"T_d6a99_level0_row10\" class=\"row_heading level0 row10\" >10</th>\n",
       "      <td id=\"T_d6a99_row10_col0\" class=\"data row10 col0\" >Imputation type</td>\n",
       "      <td id=\"T_d6a99_row10_col1\" class=\"data row10 col1\" >simple</td>\n",
       "    </tr>\n",
       "    <tr>\n",
       "      <th id=\"T_d6a99_level0_row11\" class=\"row_heading level0 row11\" >11</th>\n",
       "      <td id=\"T_d6a99_row11_col0\" class=\"data row11 col0\" >Numeric imputation</td>\n",
       "      <td id=\"T_d6a99_row11_col1\" class=\"data row11 col1\" >mean</td>\n",
       "    </tr>\n",
       "    <tr>\n",
       "      <th id=\"T_d6a99_level0_row12\" class=\"row_heading level0 row12\" >12</th>\n",
       "      <td id=\"T_d6a99_row12_col0\" class=\"data row12 col0\" >Categorical imputation</td>\n",
       "      <td id=\"T_d6a99_row12_col1\" class=\"data row12 col1\" >mode</td>\n",
       "    </tr>\n",
       "    <tr>\n",
       "      <th id=\"T_d6a99_level0_row13\" class=\"row_heading level0 row13\" >13</th>\n",
       "      <td id=\"T_d6a99_row13_col0\" class=\"data row13 col0\" >Maximum one-hot encoding</td>\n",
       "      <td id=\"T_d6a99_row13_col1\" class=\"data row13 col1\" >25</td>\n",
       "    </tr>\n",
       "    <tr>\n",
       "      <th id=\"T_d6a99_level0_row14\" class=\"row_heading level0 row14\" >14</th>\n",
       "      <td id=\"T_d6a99_row14_col0\" class=\"data row14 col0\" >Encoding method</td>\n",
       "      <td id=\"T_d6a99_row14_col1\" class=\"data row14 col1\" >None</td>\n",
       "    </tr>\n",
       "    <tr>\n",
       "      <th id=\"T_d6a99_level0_row15\" class=\"row_heading level0 row15\" >15</th>\n",
       "      <td id=\"T_d6a99_row15_col0\" class=\"data row15 col0\" >Fix imbalance</td>\n",
       "      <td id=\"T_d6a99_row15_col1\" class=\"data row15 col1\" >True</td>\n",
       "    </tr>\n",
       "    <tr>\n",
       "      <th id=\"T_d6a99_level0_row16\" class=\"row_heading level0 row16\" >16</th>\n",
       "      <td id=\"T_d6a99_row16_col0\" class=\"data row16 col0\" >Fix imbalance method</td>\n",
       "      <td id=\"T_d6a99_row16_col1\" class=\"data row16 col1\" >SMOTE</td>\n",
       "    </tr>\n",
       "    <tr>\n",
       "      <th id=\"T_d6a99_level0_row17\" class=\"row_heading level0 row17\" >17</th>\n",
       "      <td id=\"T_d6a99_row17_col0\" class=\"data row17 col0\" >Normalize</td>\n",
       "      <td id=\"T_d6a99_row17_col1\" class=\"data row17 col1\" >True</td>\n",
       "    </tr>\n",
       "    <tr>\n",
       "      <th id=\"T_d6a99_level0_row18\" class=\"row_heading level0 row18\" >18</th>\n",
       "      <td id=\"T_d6a99_row18_col0\" class=\"data row18 col0\" >Normalize method</td>\n",
       "      <td id=\"T_d6a99_row18_col1\" class=\"data row18 col1\" >zscore</td>\n",
       "    </tr>\n",
       "    <tr>\n",
       "      <th id=\"T_d6a99_level0_row19\" class=\"row_heading level0 row19\" >19</th>\n",
       "      <td id=\"T_d6a99_row19_col0\" class=\"data row19 col0\" >Fold Generator</td>\n",
       "      <td id=\"T_d6a99_row19_col1\" class=\"data row19 col1\" >StratifiedKFold</td>\n",
       "    </tr>\n",
       "    <tr>\n",
       "      <th id=\"T_d6a99_level0_row20\" class=\"row_heading level0 row20\" >20</th>\n",
       "      <td id=\"T_d6a99_row20_col0\" class=\"data row20 col0\" >Fold Number</td>\n",
       "      <td id=\"T_d6a99_row20_col1\" class=\"data row20 col1\" >10</td>\n",
       "    </tr>\n",
       "    <tr>\n",
       "      <th id=\"T_d6a99_level0_row21\" class=\"row_heading level0 row21\" >21</th>\n",
       "      <td id=\"T_d6a99_row21_col0\" class=\"data row21 col0\" >CPU Jobs</td>\n",
       "      <td id=\"T_d6a99_row21_col1\" class=\"data row21 col1\" >-1</td>\n",
       "    </tr>\n",
       "    <tr>\n",
       "      <th id=\"T_d6a99_level0_row22\" class=\"row_heading level0 row22\" >22</th>\n",
       "      <td id=\"T_d6a99_row22_col0\" class=\"data row22 col0\" >Use GPU</td>\n",
       "      <td id=\"T_d6a99_row22_col1\" class=\"data row22 col1\" >False</td>\n",
       "    </tr>\n",
       "    <tr>\n",
       "      <th id=\"T_d6a99_level0_row23\" class=\"row_heading level0 row23\" >23</th>\n",
       "      <td id=\"T_d6a99_row23_col0\" class=\"data row23 col0\" >Log Experiment</td>\n",
       "      <td id=\"T_d6a99_row23_col1\" class=\"data row23 col1\" >False</td>\n",
       "    </tr>\n",
       "    <tr>\n",
       "      <th id=\"T_d6a99_level0_row24\" class=\"row_heading level0 row24\" >24</th>\n",
       "      <td id=\"T_d6a99_row24_col0\" class=\"data row24 col0\" >Experiment Name</td>\n",
       "      <td id=\"T_d6a99_row24_col1\" class=\"data row24 col1\" >clf-default-name</td>\n",
       "    </tr>\n",
       "    <tr>\n",
       "      <th id=\"T_d6a99_level0_row25\" class=\"row_heading level0 row25\" >25</th>\n",
       "      <td id=\"T_d6a99_row25_col0\" class=\"data row25 col0\" >USI</td>\n",
       "      <td id=\"T_d6a99_row25_col1\" class=\"data row25 col1\" >d4bf</td>\n",
       "    </tr>\n",
       "  </tbody>\n",
       "</table>\n"
      ],
      "text/plain": [
       "<pandas.io.formats.style.Styler at 0x1d6fb3023d0>"
      ]
     },
     "metadata": {},
     "output_type": "display_data"
    }
   ],
   "source": [
    "#1. Setup() — definir el dataset y los parámetros\n",
    "red = setup(\n",
    "    data=df, target=\"default\", session_id=124, normalize=True, categorical_features=[\"vehiculo_propio\", \"historia_credito\", \"estado_civil\"], fix_imbalance=True\n",
    ")"
   ]
  },
  {
   "cell_type": "code",
   "execution_count": 15,
   "id": "3345ceab",
   "metadata": {},
   "outputs": [
    {
     "data": {
      "text/html": [
       "<div>\n",
       "<style scoped>\n",
       "    .dataframe tbody tr th:only-of-type {\n",
       "        vertical-align: middle;\n",
       "    }\n",
       "\n",
       "    .dataframe tbody tr th {\n",
       "        vertical-align: top;\n",
       "    }\n",
       "\n",
       "    .dataframe thead th {\n",
       "        text-align: right;\n",
       "    }\n",
       "</style>\n",
       "<table border=\"1\" class=\"dataframe\">\n",
       "  <thead>\n",
       "    <tr style=\"text-align: right;\">\n",
       "      <th></th>\n",
       "      <th></th>\n",
       "      <th></th>\n",
       "    </tr>\n",
       "    <tr>\n",
       "      <th></th>\n",
       "      <th></th>\n",
       "      <th></th>\n",
       "    </tr>\n",
       "  </thead>\n",
       "  <tbody>\n",
       "    <tr>\n",
       "      <th>Initiated</th>\n",
       "      <td>. . . . . . . . . . . . . . . . . .</td>\n",
       "      <td>17:37:54</td>\n",
       "    </tr>\n",
       "    <tr>\n",
       "      <th>Status</th>\n",
       "      <td>. . . . . . . . . . . . . . . . . .</td>\n",
       "      <td>Loading Dependencies</td>\n",
       "    </tr>\n",
       "    <tr>\n",
       "      <th>Estimator</th>\n",
       "      <td>. . . . . . . . . . . . . . . . . .</td>\n",
       "      <td>Compiling Library</td>\n",
       "    </tr>\n",
       "  </tbody>\n",
       "</table>\n",
       "</div>"
      ],
      "text/plain": [
       "                                                                    \n",
       "                                                                    \n",
       "Initiated  . . . . . . . . . . . . . . . . . .              17:37:54\n",
       "Status     . . . . . . . . . . . . . . . . . .  Loading Dependencies\n",
       "Estimator  . . . . . . . . . . . . . . . . . .     Compiling Library"
      ]
     },
     "metadata": {},
     "output_type": "display_data"
    },
    {
     "data": {
      "text/html": [
       "<style type=\"text/css\">\n",
       "#T_79891 th {\n",
       "  text-align: left;\n",
       "}\n",
       "#T_79891_row0_col0, #T_79891_row0_col2, #T_79891_row0_col3, #T_79891_row0_col4, #T_79891_row0_col5, #T_79891_row0_col6, #T_79891_row0_col7, #T_79891_row1_col0, #T_79891_row1_col1, #T_79891_row1_col2, #T_79891_row1_col3, #T_79891_row1_col4, #T_79891_row1_col5, #T_79891_row1_col6, #T_79891_row1_col7, #T_79891_row2_col0, #T_79891_row2_col1, #T_79891_row2_col3, #T_79891_row2_col4, #T_79891_row2_col5, #T_79891_row2_col6, #T_79891_row2_col7, #T_79891_row3_col0, #T_79891_row3_col1, #T_79891_row3_col2, #T_79891_row3_col3, #T_79891_row3_col4, #T_79891_row3_col5, #T_79891_row3_col6, #T_79891_row3_col7, #T_79891_row4_col0, #T_79891_row4_col1, #T_79891_row4_col2, #T_79891_row4_col3, #T_79891_row4_col5, #T_79891_row4_col6, #T_79891_row4_col7, #T_79891_row5_col0, #T_79891_row5_col1, #T_79891_row5_col2, #T_79891_row5_col3, #T_79891_row5_col4, #T_79891_row5_col5, #T_79891_row5_col6, #T_79891_row5_col7, #T_79891_row6_col0, #T_79891_row6_col1, #T_79891_row6_col2, #T_79891_row6_col3, #T_79891_row6_col4, #T_79891_row6_col5, #T_79891_row6_col6, #T_79891_row6_col7, #T_79891_row7_col0, #T_79891_row7_col1, #T_79891_row7_col2, #T_79891_row7_col3, #T_79891_row7_col4, #T_79891_row7_col5, #T_79891_row7_col6, #T_79891_row7_col7, #T_79891_row8_col0, #T_79891_row8_col1, #T_79891_row8_col2, #T_79891_row8_col4, #T_79891_row9_col0, #T_79891_row9_col1, #T_79891_row9_col2, #T_79891_row9_col3, #T_79891_row9_col4, #T_79891_row9_col5, #T_79891_row9_col6, #T_79891_row9_col7, #T_79891_row10_col0, #T_79891_row10_col1, #T_79891_row10_col2, #T_79891_row10_col3, #T_79891_row10_col4, #T_79891_row10_col5, #T_79891_row10_col6, #T_79891_row10_col7, #T_79891_row11_col0, #T_79891_row11_col1, #T_79891_row11_col2, #T_79891_row11_col3, #T_79891_row11_col4, #T_79891_row11_col5, #T_79891_row11_col6, #T_79891_row11_col7, #T_79891_row12_col0, #T_79891_row12_col1, #T_79891_row12_col2, #T_79891_row12_col4, #T_79891_row12_col5, #T_79891_row12_col6, #T_79891_row12_col7, #T_79891_row13_col0, #T_79891_row13_col1, #T_79891_row13_col2, #T_79891_row13_col3, #T_79891_row13_col4, #T_79891_row13_col5, #T_79891_row13_col6, #T_79891_row13_col7 {\n",
       "  text-align: left;\n",
       "}\n",
       "#T_79891_row0_col1, #T_79891_row2_col2, #T_79891_row4_col4, #T_79891_row8_col3, #T_79891_row8_col5, #T_79891_row8_col6, #T_79891_row8_col7, #T_79891_row12_col3 {\n",
       "  text-align: left;\n",
       "  background-color: yellow;\n",
       "}\n",
       "#T_79891_row0_col8, #T_79891_row1_col8, #T_79891_row2_col8, #T_79891_row3_col8, #T_79891_row4_col8, #T_79891_row5_col8, #T_79891_row6_col8, #T_79891_row7_col8, #T_79891_row8_col8, #T_79891_row9_col8, #T_79891_row10_col8, #T_79891_row13_col8 {\n",
       "  text-align: left;\n",
       "  background-color: lightgrey;\n",
       "}\n",
       "#T_79891_row11_col8, #T_79891_row12_col8 {\n",
       "  text-align: left;\n",
       "  background-color: yellow;\n",
       "  background-color: lightgrey;\n",
       "}\n",
       "</style>\n",
       "<table id=\"T_79891\">\n",
       "  <thead>\n",
       "    <tr>\n",
       "      <th class=\"blank level0\" >&nbsp;</th>\n",
       "      <th id=\"T_79891_level0_col0\" class=\"col_heading level0 col0\" >Model</th>\n",
       "      <th id=\"T_79891_level0_col1\" class=\"col_heading level0 col1\" >Accuracy</th>\n",
       "      <th id=\"T_79891_level0_col2\" class=\"col_heading level0 col2\" >AUC</th>\n",
       "      <th id=\"T_79891_level0_col3\" class=\"col_heading level0 col3\" >Recall</th>\n",
       "      <th id=\"T_79891_level0_col4\" class=\"col_heading level0 col4\" >Prec.</th>\n",
       "      <th id=\"T_79891_level0_col5\" class=\"col_heading level0 col5\" >F1</th>\n",
       "      <th id=\"T_79891_level0_col6\" class=\"col_heading level0 col6\" >Kappa</th>\n",
       "      <th id=\"T_79891_level0_col7\" class=\"col_heading level0 col7\" >MCC</th>\n",
       "      <th id=\"T_79891_level0_col8\" class=\"col_heading level0 col8\" >TT (Sec)</th>\n",
       "    </tr>\n",
       "  </thead>\n",
       "  <tbody>\n",
       "    <tr>\n",
       "      <th id=\"T_79891_level0_row0\" class=\"row_heading level0 row0\" >dummy</th>\n",
       "      <td id=\"T_79891_row0_col0\" class=\"data row0 col0\" >Dummy Classifier</td>\n",
       "      <td id=\"T_79891_row0_col1\" class=\"data row0 col1\" >0.8291</td>\n",
       "      <td id=\"T_79891_row0_col2\" class=\"data row0 col2\" >0.5000</td>\n",
       "      <td id=\"T_79891_row0_col3\" class=\"data row0 col3\" >0.0000</td>\n",
       "      <td id=\"T_79891_row0_col4\" class=\"data row0 col4\" >0.0000</td>\n",
       "      <td id=\"T_79891_row0_col5\" class=\"data row0 col5\" >0.0000</td>\n",
       "      <td id=\"T_79891_row0_col6\" class=\"data row0 col6\" >0.0000</td>\n",
       "      <td id=\"T_79891_row0_col7\" class=\"data row0 col7\" >0.0000</td>\n",
       "      <td id=\"T_79891_row0_col8\" class=\"data row0 col8\" >0.0220</td>\n",
       "    </tr>\n",
       "    <tr>\n",
       "      <th id=\"T_79891_level0_row1\" class=\"row_heading level0 row1\" >rf</th>\n",
       "      <td id=\"T_79891_row1_col0\" class=\"data row1 col0\" >Random Forest Classifier</td>\n",
       "      <td id=\"T_79891_row1_col1\" class=\"data row1 col1\" >0.7436</td>\n",
       "      <td id=\"T_79891_row1_col2\" class=\"data row1 col2\" >0.4934</td>\n",
       "      <td id=\"T_79891_row1_col3\" class=\"data row1 col3\" >0.0500</td>\n",
       "      <td id=\"T_79891_row1_col4\" class=\"data row1 col4\" >0.0333</td>\n",
       "      <td id=\"T_79891_row1_col5\" class=\"data row1 col5\" >0.0400</td>\n",
       "      <td id=\"T_79891_row1_col6\" class=\"data row1 col6\" >-0.0699</td>\n",
       "      <td id=\"T_79891_row1_col7\" class=\"data row1 col7\" >-0.0725</td>\n",
       "      <td id=\"T_79891_row1_col8\" class=\"data row1 col8\" >0.0510</td>\n",
       "    </tr>\n",
       "    <tr>\n",
       "      <th id=\"T_79891_level0_row2\" class=\"row_heading level0 row2\" >qda</th>\n",
       "      <td id=\"T_79891_row2_col0\" class=\"data row2 col0\" >Quadratic Discriminant Analysis</td>\n",
       "      <td id=\"T_79891_row2_col1\" class=\"data row2 col1\" >0.7400</td>\n",
       "      <td id=\"T_79891_row2_col2\" class=\"data row2 col2\" >0.6729</td>\n",
       "      <td id=\"T_79891_row2_col3\" class=\"data row2 col3\" >0.1000</td>\n",
       "      <td id=\"T_79891_row2_col4\" class=\"data row2 col4\" >0.2000</td>\n",
       "      <td id=\"T_79891_row2_col5\" class=\"data row2 col5\" >0.1333</td>\n",
       "      <td id=\"T_79891_row2_col6\" class=\"data row2 col6\" >0.0423</td>\n",
       "      <td id=\"T_79891_row2_col7\" class=\"data row2 col7\" >0.0357</td>\n",
       "      <td id=\"T_79891_row2_col8\" class=\"data row2 col8\" >0.0190</td>\n",
       "    </tr>\n",
       "    <tr>\n",
       "      <th id=\"T_79891_level0_row3\" class=\"row_heading level0 row3\" >et</th>\n",
       "      <td id=\"T_79891_row3_col0\" class=\"data row3 col0\" >Extra Trees Classifier</td>\n",
       "      <td id=\"T_79891_row3_col1\" class=\"data row3 col1\" >0.7255</td>\n",
       "      <td id=\"T_79891_row3_col2\" class=\"data row3 col2\" >0.5323</td>\n",
       "      <td id=\"T_79891_row3_col3\" class=\"data row3 col3\" >0.0000</td>\n",
       "      <td id=\"T_79891_row3_col4\" class=\"data row3 col4\" >0.0000</td>\n",
       "      <td id=\"T_79891_row3_col5\" class=\"data row3 col5\" >0.0000</td>\n",
       "      <td id=\"T_79891_row3_col6\" class=\"data row3 col6\" >-0.1180</td>\n",
       "      <td id=\"T_79891_row3_col7\" class=\"data row3 col7\" >-0.1228</td>\n",
       "      <td id=\"T_79891_row3_col8\" class=\"data row3 col8\" >0.0450</td>\n",
       "    </tr>\n",
       "    <tr>\n",
       "      <th id=\"T_79891_level0_row4\" class=\"row_heading level0 row4\" >gbc</th>\n",
       "      <td id=\"T_79891_row4_col0\" class=\"data row4 col0\" >Gradient Boosting Classifier</td>\n",
       "      <td id=\"T_79891_row4_col1\" class=\"data row4 col1\" >0.7227</td>\n",
       "      <td id=\"T_79891_row4_col2\" class=\"data row4 col2\" >0.4708</td>\n",
       "      <td id=\"T_79891_row4_col3\" class=\"data row4 col3\" >0.1500</td>\n",
       "      <td id=\"T_79891_row4_col4\" class=\"data row4 col4\" >0.2333</td>\n",
       "      <td id=\"T_79891_row4_col5\" class=\"data row4 col5\" >0.1733</td>\n",
       "      <td id=\"T_79891_row4_col6\" class=\"data row4 col6\" >0.0371</td>\n",
       "      <td id=\"T_79891_row4_col7\" class=\"data row4 col7\" >0.0394</td>\n",
       "      <td id=\"T_79891_row4_col8\" class=\"data row4 col8\" >0.0330</td>\n",
       "    </tr>\n",
       "    <tr>\n",
       "      <th id=\"T_79891_level0_row5\" class=\"row_heading level0 row5\" >lightgbm</th>\n",
       "      <td id=\"T_79891_row5_col0\" class=\"data row5 col0\" >Light Gradient Boosting Machine</td>\n",
       "      <td id=\"T_79891_row5_col1\" class=\"data row5 col1\" >0.7127</td>\n",
       "      <td id=\"T_79891_row5_col2\" class=\"data row5 col2\" >0.5076</td>\n",
       "      <td id=\"T_79891_row5_col3\" class=\"data row5 col3\" >0.1000</td>\n",
       "      <td id=\"T_79891_row5_col4\" class=\"data row5 col4\" >0.1500</td>\n",
       "      <td id=\"T_79891_row5_col5\" class=\"data row5 col5\" >0.1167</td>\n",
       "      <td id=\"T_79891_row5_col6\" class=\"data row5 col6\" >-0.0313</td>\n",
       "      <td id=\"T_79891_row5_col7\" class=\"data row5 col7\" >-0.0298</td>\n",
       "      <td id=\"T_79891_row5_col8\" class=\"data row5 col8\" >0.0430</td>\n",
       "    </tr>\n",
       "    <tr>\n",
       "      <th id=\"T_79891_level0_row6\" class=\"row_heading level0 row6\" >ada</th>\n",
       "      <td id=\"T_79891_row6_col0\" class=\"data row6 col0\" >Ada Boost Classifier</td>\n",
       "      <td id=\"T_79891_row6_col1\" class=\"data row6 col1\" >0.6964</td>\n",
       "      <td id=\"T_79891_row6_col2\" class=\"data row6 col2\" >0.5035</td>\n",
       "      <td id=\"T_79891_row6_col3\" class=\"data row6 col3\" >0.2500</td>\n",
       "      <td id=\"T_79891_row6_col4\" class=\"data row6 col4\" >0.1667</td>\n",
       "      <td id=\"T_79891_row6_col5\" class=\"data row6 col5\" >0.1967</td>\n",
       "      <td id=\"T_79891_row6_col6\" class=\"data row6 col6\" >0.0259</td>\n",
       "      <td id=\"T_79891_row6_col7\" class=\"data row6 col7\" >0.0278</td>\n",
       "      <td id=\"T_79891_row6_col8\" class=\"data row6 col8\" >0.0280</td>\n",
       "    </tr>\n",
       "    <tr>\n",
       "      <th id=\"T_79891_level0_row7\" class=\"row_heading level0 row7\" >nb</th>\n",
       "      <td id=\"T_79891_row7_col0\" class=\"data row7 col0\" >Naive Bayes</td>\n",
       "      <td id=\"T_79891_row7_col1\" class=\"data row7 col1\" >0.6673</td>\n",
       "      <td id=\"T_79891_row7_col2\" class=\"data row7 col2\" >0.6167</td>\n",
       "      <td id=\"T_79891_row7_col3\" class=\"data row7 col3\" >0.3000</td>\n",
       "      <td id=\"T_79891_row7_col4\" class=\"data row7 col4\" >0.1167</td>\n",
       "      <td id=\"T_79891_row7_col5\" class=\"data row7 col5\" >0.1667</td>\n",
       "      <td id=\"T_79891_row7_col6\" class=\"data row7 col6\" >-0.0162</td>\n",
       "      <td id=\"T_79891_row7_col7\" class=\"data row7 col7\" >0.0028</td>\n",
       "      <td id=\"T_79891_row7_col8\" class=\"data row7 col8\" >0.0180</td>\n",
       "    </tr>\n",
       "    <tr>\n",
       "      <th id=\"T_79891_level0_row8\" class=\"row_heading level0 row8\" >lr</th>\n",
       "      <td id=\"T_79891_row8_col0\" class=\"data row8 col0\" >Logistic Regression</td>\n",
       "      <td id=\"T_79891_row8_col1\" class=\"data row8 col1\" >0.6573</td>\n",
       "      <td id=\"T_79891_row8_col2\" class=\"data row8 col2\" >0.6590</td>\n",
       "      <td id=\"T_79891_row8_col3\" class=\"data row8 col3\" >0.5000</td>\n",
       "      <td id=\"T_79891_row8_col4\" class=\"data row8 col4\" >0.2217</td>\n",
       "      <td id=\"T_79891_row8_col5\" class=\"data row8 col5\" >0.2943</td>\n",
       "      <td id=\"T_79891_row8_col6\" class=\"data row8 col6\" >0.1043</td>\n",
       "      <td id=\"T_79891_row8_col7\" class=\"data row8 col7\" >0.1331</td>\n",
       "      <td id=\"T_79891_row8_col8\" class=\"data row8 col8\" >0.0210</td>\n",
       "    </tr>\n",
       "    <tr>\n",
       "      <th id=\"T_79891_level0_row9\" class=\"row_heading level0 row9\" >dt</th>\n",
       "      <td id=\"T_79891_row9_col0\" class=\"data row9 col0\" >Decision Tree Classifier</td>\n",
       "      <td id=\"T_79891_row9_col1\" class=\"data row9 col1\" >0.6464</td>\n",
       "      <td id=\"T_79891_row9_col2\" class=\"data row9 col2\" >0.4472</td>\n",
       "      <td id=\"T_79891_row9_col3\" class=\"data row9 col3\" >0.1500</td>\n",
       "      <td id=\"T_79891_row9_col4\" class=\"data row9 col4\" >0.1167</td>\n",
       "      <td id=\"T_79891_row9_col5\" class=\"data row9 col5\" >0.1300</td>\n",
       "      <td id=\"T_79891_row9_col6\" class=\"data row9 col6\" >-0.0668</td>\n",
       "      <td id=\"T_79891_row9_col7\" class=\"data row9 col7\" >-0.0785</td>\n",
       "      <td id=\"T_79891_row9_col8\" class=\"data row9 col8\" >0.0240</td>\n",
       "    </tr>\n",
       "    <tr>\n",
       "      <th id=\"T_79891_level0_row10\" class=\"row_heading level0 row10\" >ridge</th>\n",
       "      <td id=\"T_79891_row10_col0\" class=\"data row10 col0\" >Ridge Classifier</td>\n",
       "      <td id=\"T_79891_row10_col1\" class=\"data row10 col1\" >0.6400</td>\n",
       "      <td id=\"T_79891_row10_col2\" class=\"data row10 col2\" >0.6597</td>\n",
       "      <td id=\"T_79891_row10_col3\" class=\"data row10 col3\" >0.4500</td>\n",
       "      <td id=\"T_79891_row10_col4\" class=\"data row10 col4\" >0.1717</td>\n",
       "      <td id=\"T_79891_row10_col5\" class=\"data row10 col5\" >0.2443</td>\n",
       "      <td id=\"T_79891_row10_col6\" class=\"data row10 col6\" >0.0468</td>\n",
       "      <td id=\"T_79891_row10_col7\" class=\"data row10 col7\" >0.0736</td>\n",
       "      <td id=\"T_79891_row10_col8\" class=\"data row10 col8\" >0.0190</td>\n",
       "    </tr>\n",
       "    <tr>\n",
       "      <th id=\"T_79891_level0_row11\" class=\"row_heading level0 row11\" >lda</th>\n",
       "      <td id=\"T_79891_row11_col0\" class=\"data row11 col0\" >Linear Discriminant Analysis</td>\n",
       "      <td id=\"T_79891_row11_col1\" class=\"data row11 col1\" >0.6400</td>\n",
       "      <td id=\"T_79891_row11_col2\" class=\"data row11 col2\" >0.6597</td>\n",
       "      <td id=\"T_79891_row11_col3\" class=\"data row11 col3\" >0.4500</td>\n",
       "      <td id=\"T_79891_row11_col4\" class=\"data row11 col4\" >0.1717</td>\n",
       "      <td id=\"T_79891_row11_col5\" class=\"data row11 col5\" >0.2443</td>\n",
       "      <td id=\"T_79891_row11_col6\" class=\"data row11 col6\" >0.0468</td>\n",
       "      <td id=\"T_79891_row11_col7\" class=\"data row11 col7\" >0.0736</td>\n",
       "      <td id=\"T_79891_row11_col8\" class=\"data row11 col8\" >0.0170</td>\n",
       "    </tr>\n",
       "    <tr>\n",
       "      <th id=\"T_79891_level0_row12\" class=\"row_heading level0 row12\" >svm</th>\n",
       "      <td id=\"T_79891_row12_col0\" class=\"data row12 col0\" >SVM - Linear Kernel</td>\n",
       "      <td id=\"T_79891_row12_col1\" class=\"data row12 col1\" >0.5800</td>\n",
       "      <td id=\"T_79891_row12_col2\" class=\"data row12 col2\" >0.5799</td>\n",
       "      <td id=\"T_79891_row12_col3\" class=\"data row12 col3\" >0.5000</td>\n",
       "      <td id=\"T_79891_row12_col4\" class=\"data row12 col4\" >0.1700</td>\n",
       "      <td id=\"T_79891_row12_col5\" class=\"data row12 col5\" >0.2488</td>\n",
       "      <td id=\"T_79891_row12_col6\" class=\"data row12 col6\" >0.0251</td>\n",
       "      <td id=\"T_79891_row12_col7\" class=\"data row12 col7\" >0.0609</td>\n",
       "      <td id=\"T_79891_row12_col8\" class=\"data row12 col8\" >0.0170</td>\n",
       "    </tr>\n",
       "    <tr>\n",
       "      <th id=\"T_79891_level0_row13\" class=\"row_heading level0 row13\" >knn</th>\n",
       "      <td id=\"T_79891_row13_col0\" class=\"data row13 col0\" >K Neighbors Classifier</td>\n",
       "      <td id=\"T_79891_row13_col1\" class=\"data row13 col1\" >0.5609</td>\n",
       "      <td id=\"T_79891_row13_col2\" class=\"data row13 col2\" >0.4948</td>\n",
       "      <td id=\"T_79891_row13_col3\" class=\"data row13 col3\" >0.4500</td>\n",
       "      <td id=\"T_79891_row13_col4\" class=\"data row13 col4\" >0.1886</td>\n",
       "      <td id=\"T_79891_row13_col5\" class=\"data row13 col5\" >0.2535</td>\n",
       "      <td id=\"T_79891_row13_col6\" class=\"data row13 col6\" >0.0189</td>\n",
       "      <td id=\"T_79891_row13_col7\" class=\"data row13 col7\" >0.0302</td>\n",
       "      <td id=\"T_79891_row13_col8\" class=\"data row13 col8\" >0.0240</td>\n",
       "    </tr>\n",
       "  </tbody>\n",
       "</table>\n"
      ],
      "text/plain": [
       "<pandas.io.formats.style.Styler at 0x1d6fb53ca90>"
      ]
     },
     "metadata": {},
     "output_type": "display_data"
    },
    {
     "data": {
      "text/html": [],
      "text/plain": [
       "<IPython.core.display.HTML object>"
      ]
     },
     "metadata": {},
     "output_type": "display_data"
    }
   ],
   "source": [
    "#2. Compare_models(): Comparar multiples modelos y los rankear\n",
    "best_model = compare_models()"
   ]
  },
  {
   "cell_type": "code",
   "execution_count": 16,
   "id": "a929c8d5",
   "metadata": {},
   "outputs": [],
   "source": [
    "#guardamos los resulatdo en un excel\n",
    "results = pull()\n",
    "results.to_csv('resultados_modelos.csv', index=False, sep=';')\n"
   ]
  },
  {
   "cell_type": "markdown",
   "id": "4fe0f8e2",
   "metadata": {},
   "source": [
    "EMPEZAMOS CON EL MODELO ESCOGIDO"
   ]
  },
  {
   "cell_type": "code",
   "execution_count": 17,
   "id": "0d4cf561",
   "metadata": {},
   "outputs": [
    {
     "data": {
      "text/html": [],
      "text/plain": [
       "<IPython.core.display.HTML object>"
      ]
     },
     "metadata": {},
     "output_type": "display_data"
    },
    {
     "data": {
      "text/html": [
       "<style type=\"text/css\">\n",
       "#T_711a5_row10_col0, #T_711a5_row10_col1, #T_711a5_row10_col2, #T_711a5_row10_col3, #T_711a5_row10_col4, #T_711a5_row10_col5, #T_711a5_row10_col6 {\n",
       "  background: yellow;\n",
       "}\n",
       "</style>\n",
       "<table id=\"T_711a5\">\n",
       "  <thead>\n",
       "    <tr>\n",
       "      <th class=\"blank level0\" >&nbsp;</th>\n",
       "      <th id=\"T_711a5_level0_col0\" class=\"col_heading level0 col0\" >Accuracy</th>\n",
       "      <th id=\"T_711a5_level0_col1\" class=\"col_heading level0 col1\" >AUC</th>\n",
       "      <th id=\"T_711a5_level0_col2\" class=\"col_heading level0 col2\" >Recall</th>\n",
       "      <th id=\"T_711a5_level0_col3\" class=\"col_heading level0 col3\" >Prec.</th>\n",
       "      <th id=\"T_711a5_level0_col4\" class=\"col_heading level0 col4\" >F1</th>\n",
       "      <th id=\"T_711a5_level0_col5\" class=\"col_heading level0 col5\" >Kappa</th>\n",
       "      <th id=\"T_711a5_level0_col6\" class=\"col_heading level0 col6\" >MCC</th>\n",
       "    </tr>\n",
       "    <tr>\n",
       "      <th class=\"index_name level0\" >Fold</th>\n",
       "      <th class=\"blank col0\" >&nbsp;</th>\n",
       "      <th class=\"blank col1\" >&nbsp;</th>\n",
       "      <th class=\"blank col2\" >&nbsp;</th>\n",
       "      <th class=\"blank col3\" >&nbsp;</th>\n",
       "      <th class=\"blank col4\" >&nbsp;</th>\n",
       "      <th class=\"blank col5\" >&nbsp;</th>\n",
       "      <th class=\"blank col6\" >&nbsp;</th>\n",
       "    </tr>\n",
       "  </thead>\n",
       "  <tbody>\n",
       "    <tr>\n",
       "      <th id=\"T_711a5_level0_row0\" class=\"row_heading level0 row0\" >0</th>\n",
       "      <td id=\"T_711a5_row0_col0\" class=\"data row0 col0\" >0.5455</td>\n",
       "      <td id=\"T_711a5_row0_col1\" class=\"data row0 col1\" >0.4444</td>\n",
       "      <td id=\"T_711a5_row0_col2\" class=\"data row0 col2\" >0.5000</td>\n",
       "      <td id=\"T_711a5_row0_col3\" class=\"data row0 col3\" >0.2000</td>\n",
       "      <td id=\"T_711a5_row0_col4\" class=\"data row0 col4\" >0.2857</td>\n",
       "      <td id=\"T_711a5_row0_col5\" class=\"data row0 col5\" >0.0351</td>\n",
       "      <td id=\"T_711a5_row0_col6\" class=\"data row0 col6\" >0.0430</td>\n",
       "    </tr>\n",
       "    <tr>\n",
       "      <th id=\"T_711a5_level0_row1\" class=\"row_heading level0 row1\" >1</th>\n",
       "      <td id=\"T_711a5_row1_col0\" class=\"data row1 col0\" >0.8182</td>\n",
       "      <td id=\"T_711a5_row1_col1\" class=\"data row1 col1\" >0.7222</td>\n",
       "      <td id=\"T_711a5_row1_col2\" class=\"data row1 col2\" >0.5000</td>\n",
       "      <td id=\"T_711a5_row1_col3\" class=\"data row1 col3\" >0.5000</td>\n",
       "      <td id=\"T_711a5_row1_col4\" class=\"data row1 col4\" >0.5000</td>\n",
       "      <td id=\"T_711a5_row1_col5\" class=\"data row1 col5\" >0.3889</td>\n",
       "      <td id=\"T_711a5_row1_col6\" class=\"data row1 col6\" >0.3889</td>\n",
       "    </tr>\n",
       "    <tr>\n",
       "      <th id=\"T_711a5_level0_row2\" class=\"row_heading level0 row2\" >2</th>\n",
       "      <td id=\"T_711a5_row2_col0\" class=\"data row2 col0\" >0.7273</td>\n",
       "      <td id=\"T_711a5_row2_col1\" class=\"data row2 col1\" >0.8333</td>\n",
       "      <td id=\"T_711a5_row2_col2\" class=\"data row2 col2\" >0.0000</td>\n",
       "      <td id=\"T_711a5_row2_col3\" class=\"data row2 col3\" >0.0000</td>\n",
       "      <td id=\"T_711a5_row2_col4\" class=\"data row2 col4\" >0.0000</td>\n",
       "      <td id=\"T_711a5_row2_col5\" class=\"data row2 col5\" >-0.1379</td>\n",
       "      <td id=\"T_711a5_row2_col6\" class=\"data row2 col6\" >-0.1491</td>\n",
       "    </tr>\n",
       "    <tr>\n",
       "      <th id=\"T_711a5_level0_row3\" class=\"row_heading level0 row3\" >3</th>\n",
       "      <td id=\"T_711a5_row3_col0\" class=\"data row3 col0\" >0.6364</td>\n",
       "      <td id=\"T_711a5_row3_col1\" class=\"data row3 col1\" >0.2222</td>\n",
       "      <td id=\"T_711a5_row3_col2\" class=\"data row3 col2\" >0.0000</td>\n",
       "      <td id=\"T_711a5_row3_col3\" class=\"data row3 col3\" >0.0000</td>\n",
       "      <td id=\"T_711a5_row3_col4\" class=\"data row3 col4\" >0.0000</td>\n",
       "      <td id=\"T_711a5_row3_col5\" class=\"data row3 col5\" >-0.2222</td>\n",
       "      <td id=\"T_711a5_row3_col6\" class=\"data row3 col6\" >-0.2222</td>\n",
       "    </tr>\n",
       "    <tr>\n",
       "      <th id=\"T_711a5_level0_row4\" class=\"row_heading level0 row4\" >4</th>\n",
       "      <td id=\"T_711a5_row4_col0\" class=\"data row4 col0\" >0.5455</td>\n",
       "      <td id=\"T_711a5_row4_col1\" class=\"data row4 col1\" >0.7778</td>\n",
       "      <td id=\"T_711a5_row4_col2\" class=\"data row4 col2\" >0.5000</td>\n",
       "      <td id=\"T_711a5_row4_col3\" class=\"data row4 col3\" >0.2000</td>\n",
       "      <td id=\"T_711a5_row4_col4\" class=\"data row4 col4\" >0.2857</td>\n",
       "      <td id=\"T_711a5_row4_col5\" class=\"data row4 col5\" >0.0351</td>\n",
       "      <td id=\"T_711a5_row4_col6\" class=\"data row4 col6\" >0.0430</td>\n",
       "    </tr>\n",
       "    <tr>\n",
       "      <th id=\"T_711a5_level0_row5\" class=\"row_heading level0 row5\" >5</th>\n",
       "      <td id=\"T_711a5_row5_col0\" class=\"data row5 col0\" >0.7000</td>\n",
       "      <td id=\"T_711a5_row5_col1\" class=\"data row5 col1\" >0.7778</td>\n",
       "      <td id=\"T_711a5_row5_col2\" class=\"data row5 col2\" >1.0000</td>\n",
       "      <td id=\"T_711a5_row5_col3\" class=\"data row5 col3\" >0.2500</td>\n",
       "      <td id=\"T_711a5_row5_col4\" class=\"data row5 col4\" >0.4000</td>\n",
       "      <td id=\"T_711a5_row5_col5\" class=\"data row5 col5\" >0.2857</td>\n",
       "      <td id=\"T_711a5_row5_col6\" class=\"data row5 col6\" >0.4082</td>\n",
       "    </tr>\n",
       "    <tr>\n",
       "      <th id=\"T_711a5_level0_row6\" class=\"row_heading level0 row6\" >6</th>\n",
       "      <td id=\"T_711a5_row6_col0\" class=\"data row6 col0\" >0.8000</td>\n",
       "      <td id=\"T_711a5_row6_col1\" class=\"data row6 col1\" >1.0000</td>\n",
       "      <td id=\"T_711a5_row6_col2\" class=\"data row6 col2\" >1.0000</td>\n",
       "      <td id=\"T_711a5_row6_col3\" class=\"data row6 col3\" >0.3333</td>\n",
       "      <td id=\"T_711a5_row6_col4\" class=\"data row6 col4\" >0.5000</td>\n",
       "      <td id=\"T_711a5_row6_col5\" class=\"data row6 col5\" >0.4118</td>\n",
       "      <td id=\"T_711a5_row6_col6\" class=\"data row6 col6\" >0.5092</td>\n",
       "    </tr>\n",
       "    <tr>\n",
       "      <th id=\"T_711a5_level0_row7\" class=\"row_heading level0 row7\" >7</th>\n",
       "      <td id=\"T_711a5_row7_col0\" class=\"data row7 col0\" >0.7000</td>\n",
       "      <td id=\"T_711a5_row7_col1\" class=\"data row7 col1\" >0.6250</td>\n",
       "      <td id=\"T_711a5_row7_col2\" class=\"data row7 col2\" >1.0000</td>\n",
       "      <td id=\"T_711a5_row7_col3\" class=\"data row7 col3\" >0.4000</td>\n",
       "      <td id=\"T_711a5_row7_col4\" class=\"data row7 col4\" >0.5714</td>\n",
       "      <td id=\"T_711a5_row7_col5\" class=\"data row7 col5\" >0.4000</td>\n",
       "      <td id=\"T_711a5_row7_col6\" class=\"data row7 col6\" >0.5000</td>\n",
       "    </tr>\n",
       "    <tr>\n",
       "      <th id=\"T_711a5_level0_row8\" class=\"row_heading level0 row8\" >8</th>\n",
       "      <td id=\"T_711a5_row8_col0\" class=\"data row8 col0\" >0.7000</td>\n",
       "      <td id=\"T_711a5_row8_col1\" class=\"data row8 col1\" >0.8750</td>\n",
       "      <td id=\"T_711a5_row8_col2\" class=\"data row8 col2\" >0.5000</td>\n",
       "      <td id=\"T_711a5_row8_col3\" class=\"data row8 col3\" >0.3333</td>\n",
       "      <td id=\"T_711a5_row8_col4\" class=\"data row8 col4\" >0.4000</td>\n",
       "      <td id=\"T_711a5_row8_col5\" class=\"data row8 col5\" >0.2105</td>\n",
       "      <td id=\"T_711a5_row8_col6\" class=\"data row8 col6\" >0.2182</td>\n",
       "    </tr>\n",
       "    <tr>\n",
       "      <th id=\"T_711a5_level0_row9\" class=\"row_heading level0 row9\" >9</th>\n",
       "      <td id=\"T_711a5_row9_col0\" class=\"data row9 col0\" >0.4000</td>\n",
       "      <td id=\"T_711a5_row9_col1\" class=\"data row9 col1\" >0.3125</td>\n",
       "      <td id=\"T_711a5_row9_col2\" class=\"data row9 col2\" >0.0000</td>\n",
       "      <td id=\"T_711a5_row9_col3\" class=\"data row9 col3\" >0.0000</td>\n",
       "      <td id=\"T_711a5_row9_col4\" class=\"data row9 col4\" >0.0000</td>\n",
       "      <td id=\"T_711a5_row9_col5\" class=\"data row9 col5\" >-0.3636</td>\n",
       "      <td id=\"T_711a5_row9_col6\" class=\"data row9 col6\" >-0.4082</td>\n",
       "    </tr>\n",
       "    <tr>\n",
       "      <th id=\"T_711a5_level0_row10\" class=\"row_heading level0 row10\" >Mean</th>\n",
       "      <td id=\"T_711a5_row10_col0\" class=\"data row10 col0\" >0.6573</td>\n",
       "      <td id=\"T_711a5_row10_col1\" class=\"data row10 col1\" >0.6590</td>\n",
       "      <td id=\"T_711a5_row10_col2\" class=\"data row10 col2\" >0.5000</td>\n",
       "      <td id=\"T_711a5_row10_col3\" class=\"data row10 col3\" >0.2217</td>\n",
       "      <td id=\"T_711a5_row10_col4\" class=\"data row10 col4\" >0.2943</td>\n",
       "      <td id=\"T_711a5_row10_col5\" class=\"data row10 col5\" >0.1043</td>\n",
       "      <td id=\"T_711a5_row10_col6\" class=\"data row10 col6\" >0.1331</td>\n",
       "    </tr>\n",
       "    <tr>\n",
       "      <th id=\"T_711a5_level0_row11\" class=\"row_heading level0 row11\" >Std</th>\n",
       "      <td id=\"T_711a5_row11_col0\" class=\"data row11 col0\" >0.1218</td>\n",
       "      <td id=\"T_711a5_row11_col1\" class=\"data row11 col1\" >0.2416</td>\n",
       "      <td id=\"T_711a5_row11_col2\" class=\"data row11 col2\" >0.3873</td>\n",
       "      <td id=\"T_711a5_row11_col3\" class=\"data row11 col3\" >0.1683</td>\n",
       "      <td id=\"T_711a5_row11_col4\" class=\"data row11 col4\" >0.2107</td>\n",
       "      <td id=\"T_711a5_row11_col5\" class=\"data row11 col5\" >0.2648</td>\n",
       "      <td id=\"T_711a5_row11_col6\" class=\"data row11 col6\" >0.3065</td>\n",
       "    </tr>\n",
       "  </tbody>\n",
       "</table>\n"
      ],
      "text/plain": [
       "<pandas.io.formats.style.Styler at 0x1d6fb443fd0>"
      ]
     },
     "metadata": {},
     "output_type": "display_data"
    },
    {
     "data": {
      "text/html": [],
      "text/plain": [
       "<IPython.core.display.HTML object>"
      ]
     },
     "metadata": {},
     "output_type": "display_data"
    }
   ],
   "source": [
    "#3. Create model(): Crear un modelo específico\n",
    "lr = create_model('lr')\n"
   ]
  },
  {
   "cell_type": "code",
   "execution_count": 18,
   "id": "3704df52",
   "metadata": {},
   "outputs": [
    {
     "name": "stdout",
     "output_type": "stream",
     "text": [
      "DummyClassifier(constant=None, random_state=124, strategy='prior')\n"
     ]
    }
   ],
   "source": [
    "print(best_model)\n",
    "#El mejor modelo fue la regresion logistica segun la métrica AUC"
   ]
  },
  {
   "cell_type": "code",
   "execution_count": null,
   "id": "72694c11",
   "metadata": {},
   "outputs": [
    {
     "data": {
      "application/vnd.jupyter.widget-view+json": {
       "model_id": "244cd365d83d4d63b8aac48aa325969c",
       "version_major": 2,
       "version_minor": 0
      },
      "text/plain": [
       "interactive(children=(ToggleButtons(description='Plot Type:', icons=('',), options=(('Pipeline Plot', 'pipelin…"
      ]
     },
     "metadata": {},
     "output_type": "display_data"
    }
   ],
   "source": [
    "#5. plot_model(): visualizar el desempeño del modelo\n",
    "#6. Evaluate_model(): Evaluación del modelo\n",
    "evaluate_model(best_model)\n"
   ]
  },
  {
   "cell_type": "code",
   "execution_count": 21,
   "id": "03df5486",
   "metadata": {},
   "outputs": [
    {
     "data": {
      "text/html": [
       "<style type=\"text/css\">\n",
       "</style>\n",
       "<table id=\"T_10419\">\n",
       "  <thead>\n",
       "    <tr>\n",
       "      <th class=\"blank level0\" >&nbsp;</th>\n",
       "      <th id=\"T_10419_level0_col0\" class=\"col_heading level0 col0\" >Model</th>\n",
       "      <th id=\"T_10419_level0_col1\" class=\"col_heading level0 col1\" >Accuracy</th>\n",
       "      <th id=\"T_10419_level0_col2\" class=\"col_heading level0 col2\" >AUC</th>\n",
       "      <th id=\"T_10419_level0_col3\" class=\"col_heading level0 col3\" >Recall</th>\n",
       "      <th id=\"T_10419_level0_col4\" class=\"col_heading level0 col4\" >Prec.</th>\n",
       "      <th id=\"T_10419_level0_col5\" class=\"col_heading level0 col5\" >F1</th>\n",
       "      <th id=\"T_10419_level0_col6\" class=\"col_heading level0 col6\" >Kappa</th>\n",
       "      <th id=\"T_10419_level0_col7\" class=\"col_heading level0 col7\" >MCC</th>\n",
       "    </tr>\n",
       "  </thead>\n",
       "  <tbody>\n",
       "    <tr>\n",
       "      <th id=\"T_10419_level0_row0\" class=\"row_heading level0 row0\" >0</th>\n",
       "      <td id=\"T_10419_row0_col0\" class=\"data row0 col0\" >Dummy Classifier</td>\n",
       "      <td id=\"T_10419_row0_col1\" class=\"data row0 col1\" >0.8444</td>\n",
       "      <td id=\"T_10419_row0_col2\" class=\"data row0 col2\" >0.5000</td>\n",
       "      <td id=\"T_10419_row0_col3\" class=\"data row0 col3\" >0.0000</td>\n",
       "      <td id=\"T_10419_row0_col4\" class=\"data row0 col4\" >0.0000</td>\n",
       "      <td id=\"T_10419_row0_col5\" class=\"data row0 col5\" >0.0000</td>\n",
       "      <td id=\"T_10419_row0_col6\" class=\"data row0 col6\" >0.0000</td>\n",
       "      <td id=\"T_10419_row0_col7\" class=\"data row0 col7\" >0.0000</td>\n",
       "    </tr>\n",
       "  </tbody>\n",
       "</table>\n"
      ],
      "text/plain": [
       "<pandas.io.formats.style.Styler at 0x1d6fb30c0d0>"
      ]
     },
     "metadata": {},
     "output_type": "display_data"
    },
    {
     "name": "stdout",
     "output_type": "stream",
     "text": [
      "     edad  ingresos_mensuales estado_civil historia_credito  \\\n",
      "75     43                2707   Divorciado            Buena   \n",
      "47     22                2495   Divorciado            Buena   \n",
      "1      49                6279       Casado            Buena   \n",
      "92     64                2930       Casado            Buena   \n",
      "135    46                1623       Casado            Buena   \n",
      "\n",
      "     nro_creditos_previos  cuota_vs_ingreso  vehiculo_propio  default  \\\n",
      "75                      4              0.30                1        0   \n",
      "47                      3              0.65                1        0   \n",
      "1                       2              0.31                1        1   \n",
      "92                      2              0.31                1        0   \n",
      "135                     2              0.18                1        0   \n",
      "\n",
      "     prediction_label  prediction_score  \n",
      "75                  0               0.5  \n",
      "47                  0               0.5  \n",
      "1                   0               0.5  \n",
      "92                  0               0.5  \n",
      "135                 0               0.5  \n"
     ]
    }
   ],
   "source": [
    "#7. Predict_model(): Predicciones sobre nuevos datos en el DF\n",
    "preds = predict_model(best_model)\n",
    "print(preds.head())"
   ]
  },
  {
   "cell_type": "code",
   "execution_count": 20,
   "id": "adce9c25",
   "metadata": {},
   "outputs": [
    {
     "name": "stdout",
     "output_type": "stream",
     "text": [
      "Transformation Pipeline and Model Successfully Saved\n"
     ]
    },
    {
     "data": {
      "text/plain": [
       "(Pipeline(memory=Memory(location=None),\n",
       "          steps=[('numerical_imputer',\n",
       "                  TransformerWrapper(exclude=None,\n",
       "                                     include=['edad', 'ingresos_mensuales',\n",
       "                                              'nro_creditos_previos',\n",
       "                                              'cuota_vs_ingreso'],\n",
       "                                     transformer=SimpleImputer(add_indicator=False,\n",
       "                                                               copy=True,\n",
       "                                                               fill_value=None,\n",
       "                                                               keep_empty_features=False,\n",
       "                                                               missing_values=nan,\n",
       "                                                               strategy='mean'))),\n",
       "                 ('categorical_imputer',\n",
       "                  TransformerWr...\n",
       "                  TransformerWrapper(exclude=None, include=None,\n",
       "                                     transformer=FixImbalancer(estimator=SMOTE(k_neighbors=5,\n",
       "                                                                               random_state=124,\n",
       "                                                                               sampling_strategy='auto')))),\n",
       "                 ('normalize',\n",
       "                  TransformerWrapper(exclude=None, include=None,\n",
       "                                     transformer=StandardScaler(copy=True,\n",
       "                                                                with_mean=True,\n",
       "                                                                with_std=True))),\n",
       "                 ('trained_model',\n",
       "                  DummyClassifier(constant=None, random_state=124,\n",
       "                                  strategy='prior'))],\n",
       "          verbose=False),\n",
       " 'modelo_credito_final.pkl')"
      ]
     },
     "execution_count": 20,
     "metadata": {},
     "output_type": "execute_result"
    }
   ],
   "source": [
    "#8. Save_model/load_model(): Guardar y cargar el modelo\n",
    "save_model(best_model, 'modelo_credito_final')\n"
   ]
  },
  {
   "cell_type": "markdown",
   "id": "e6607ec4",
   "metadata": {},
   "source": [
    "CONCLUSIONES 1:\n",
    "\n",
    "1. Debido a que variable defualt poseia solo dos valores, si o no, se uso un modelo de clasificación binaria.\n",
    "\n",
    "2. El modelo con mayor desempeño fue la regresion logistica, donde su resultado mostró un AUC medio, lo que indica un rendimiento aceptable.\n",
    "\n",
    "3. Se probó el modelo de regresión logistica para predecir si un cliente incumplirA su credito.\n",
    "\n",
    "4. El modelo obtuvo un desempeño moderado segun las metricas de AUC y F1, y predice correctamente la mayoría de los casos negativos, pero falla en algunos positivos.\n",
    "\n",
    "5. No se aplico ajuste de parametros (tuning), por lo que aún puede mejorar"
   ]
  },
  {
   "cell_type": "markdown",
   "id": "5e31a5ff",
   "metadata": {},
   "source": [
    "MEJORA DEL MODELO"
   ]
  },
  {
   "cell_type": "code",
   "execution_count": 22,
   "id": "f34faa67",
   "metadata": {},
   "outputs": [
    {
     "data": {
      "text/html": [
       "<style type=\"text/css\">\n",
       "#T_0c7d3_row9_col1, #T_0c7d3_row15_col1, #T_0c7d3_row17_col1 {\n",
       "  background-color: lightgreen;\n",
       "}\n",
       "</style>\n",
       "<table id=\"T_0c7d3\">\n",
       "  <thead>\n",
       "    <tr>\n",
       "      <th class=\"blank level0\" >&nbsp;</th>\n",
       "      <th id=\"T_0c7d3_level0_col0\" class=\"col_heading level0 col0\" >Description</th>\n",
       "      <th id=\"T_0c7d3_level0_col1\" class=\"col_heading level0 col1\" >Value</th>\n",
       "    </tr>\n",
       "  </thead>\n",
       "  <tbody>\n",
       "    <tr>\n",
       "      <th id=\"T_0c7d3_level0_row0\" class=\"row_heading level0 row0\" >0</th>\n",
       "      <td id=\"T_0c7d3_row0_col0\" class=\"data row0 col0\" >Session id</td>\n",
       "      <td id=\"T_0c7d3_row0_col1\" class=\"data row0 col1\" >123</td>\n",
       "    </tr>\n",
       "    <tr>\n",
       "      <th id=\"T_0c7d3_level0_row1\" class=\"row_heading level0 row1\" >1</th>\n",
       "      <td id=\"T_0c7d3_row1_col0\" class=\"data row1 col0\" >Target</td>\n",
       "      <td id=\"T_0c7d3_row1_col1\" class=\"data row1 col1\" >default</td>\n",
       "    </tr>\n",
       "    <tr>\n",
       "      <th id=\"T_0c7d3_level0_row2\" class=\"row_heading level0 row2\" >2</th>\n",
       "      <td id=\"T_0c7d3_row2_col0\" class=\"data row2 col0\" >Target type</td>\n",
       "      <td id=\"T_0c7d3_row2_col1\" class=\"data row2 col1\" >Binary</td>\n",
       "    </tr>\n",
       "    <tr>\n",
       "      <th id=\"T_0c7d3_level0_row3\" class=\"row_heading level0 row3\" >3</th>\n",
       "      <td id=\"T_0c7d3_row3_col0\" class=\"data row3 col0\" >Original data shape</td>\n",
       "      <td id=\"T_0c7d3_row3_col1\" class=\"data row3 col1\" >(150, 8)</td>\n",
       "    </tr>\n",
       "    <tr>\n",
       "      <th id=\"T_0c7d3_level0_row4\" class=\"row_heading level0 row4\" >4</th>\n",
       "      <td id=\"T_0c7d3_row4_col0\" class=\"data row4 col0\" >Transformed data shape</td>\n",
       "      <td id=\"T_0c7d3_row4_col1\" class=\"data row4 col1\" >(219, 12)</td>\n",
       "    </tr>\n",
       "    <tr>\n",
       "      <th id=\"T_0c7d3_level0_row5\" class=\"row_heading level0 row5\" >5</th>\n",
       "      <td id=\"T_0c7d3_row5_col0\" class=\"data row5 col0\" >Transformed train set shape</td>\n",
       "      <td id=\"T_0c7d3_row5_col1\" class=\"data row5 col1\" >(174, 12)</td>\n",
       "    </tr>\n",
       "    <tr>\n",
       "      <th id=\"T_0c7d3_level0_row6\" class=\"row_heading level0 row6\" >6</th>\n",
       "      <td id=\"T_0c7d3_row6_col0\" class=\"data row6 col0\" >Transformed test set shape</td>\n",
       "      <td id=\"T_0c7d3_row6_col1\" class=\"data row6 col1\" >(45, 12)</td>\n",
       "    </tr>\n",
       "    <tr>\n",
       "      <th id=\"T_0c7d3_level0_row7\" class=\"row_heading level0 row7\" >7</th>\n",
       "      <td id=\"T_0c7d3_row7_col0\" class=\"data row7 col0\" >Numeric features</td>\n",
       "      <td id=\"T_0c7d3_row7_col1\" class=\"data row7 col1\" >4</td>\n",
       "    </tr>\n",
       "    <tr>\n",
       "      <th id=\"T_0c7d3_level0_row8\" class=\"row_heading level0 row8\" >8</th>\n",
       "      <td id=\"T_0c7d3_row8_col0\" class=\"data row8 col0\" >Categorical features</td>\n",
       "      <td id=\"T_0c7d3_row8_col1\" class=\"data row8 col1\" >3</td>\n",
       "    </tr>\n",
       "    <tr>\n",
       "      <th id=\"T_0c7d3_level0_row9\" class=\"row_heading level0 row9\" >9</th>\n",
       "      <td id=\"T_0c7d3_row9_col0\" class=\"data row9 col0\" >Preprocess</td>\n",
       "      <td id=\"T_0c7d3_row9_col1\" class=\"data row9 col1\" >True</td>\n",
       "    </tr>\n",
       "    <tr>\n",
       "      <th id=\"T_0c7d3_level0_row10\" class=\"row_heading level0 row10\" >10</th>\n",
       "      <td id=\"T_0c7d3_row10_col0\" class=\"data row10 col0\" >Imputation type</td>\n",
       "      <td id=\"T_0c7d3_row10_col1\" class=\"data row10 col1\" >simple</td>\n",
       "    </tr>\n",
       "    <tr>\n",
       "      <th id=\"T_0c7d3_level0_row11\" class=\"row_heading level0 row11\" >11</th>\n",
       "      <td id=\"T_0c7d3_row11_col0\" class=\"data row11 col0\" >Numeric imputation</td>\n",
       "      <td id=\"T_0c7d3_row11_col1\" class=\"data row11 col1\" >mean</td>\n",
       "    </tr>\n",
       "    <tr>\n",
       "      <th id=\"T_0c7d3_level0_row12\" class=\"row_heading level0 row12\" >12</th>\n",
       "      <td id=\"T_0c7d3_row12_col0\" class=\"data row12 col0\" >Categorical imputation</td>\n",
       "      <td id=\"T_0c7d3_row12_col1\" class=\"data row12 col1\" >mode</td>\n",
       "    </tr>\n",
       "    <tr>\n",
       "      <th id=\"T_0c7d3_level0_row13\" class=\"row_heading level0 row13\" >13</th>\n",
       "      <td id=\"T_0c7d3_row13_col0\" class=\"data row13 col0\" >Maximum one-hot encoding</td>\n",
       "      <td id=\"T_0c7d3_row13_col1\" class=\"data row13 col1\" >25</td>\n",
       "    </tr>\n",
       "    <tr>\n",
       "      <th id=\"T_0c7d3_level0_row14\" class=\"row_heading level0 row14\" >14</th>\n",
       "      <td id=\"T_0c7d3_row14_col0\" class=\"data row14 col0\" >Encoding method</td>\n",
       "      <td id=\"T_0c7d3_row14_col1\" class=\"data row14 col1\" >None</td>\n",
       "    </tr>\n",
       "    <tr>\n",
       "      <th id=\"T_0c7d3_level0_row15\" class=\"row_heading level0 row15\" >15</th>\n",
       "      <td id=\"T_0c7d3_row15_col0\" class=\"data row15 col0\" >Fix imbalance</td>\n",
       "      <td id=\"T_0c7d3_row15_col1\" class=\"data row15 col1\" >True</td>\n",
       "    </tr>\n",
       "    <tr>\n",
       "      <th id=\"T_0c7d3_level0_row16\" class=\"row_heading level0 row16\" >16</th>\n",
       "      <td id=\"T_0c7d3_row16_col0\" class=\"data row16 col0\" >Fix imbalance method</td>\n",
       "      <td id=\"T_0c7d3_row16_col1\" class=\"data row16 col1\" >SMOTE</td>\n",
       "    </tr>\n",
       "    <tr>\n",
       "      <th id=\"T_0c7d3_level0_row17\" class=\"row_heading level0 row17\" >17</th>\n",
       "      <td id=\"T_0c7d3_row17_col0\" class=\"data row17 col0\" >Normalize</td>\n",
       "      <td id=\"T_0c7d3_row17_col1\" class=\"data row17 col1\" >True</td>\n",
       "    </tr>\n",
       "    <tr>\n",
       "      <th id=\"T_0c7d3_level0_row18\" class=\"row_heading level0 row18\" >18</th>\n",
       "      <td id=\"T_0c7d3_row18_col0\" class=\"data row18 col0\" >Normalize method</td>\n",
       "      <td id=\"T_0c7d3_row18_col1\" class=\"data row18 col1\" >zscore</td>\n",
       "    </tr>\n",
       "    <tr>\n",
       "      <th id=\"T_0c7d3_level0_row19\" class=\"row_heading level0 row19\" >19</th>\n",
       "      <td id=\"T_0c7d3_row19_col0\" class=\"data row19 col0\" >Fold Generator</td>\n",
       "      <td id=\"T_0c7d3_row19_col1\" class=\"data row19 col1\" >StratifiedKFold</td>\n",
       "    </tr>\n",
       "    <tr>\n",
       "      <th id=\"T_0c7d3_level0_row20\" class=\"row_heading level0 row20\" >20</th>\n",
       "      <td id=\"T_0c7d3_row20_col0\" class=\"data row20 col0\" >Fold Number</td>\n",
       "      <td id=\"T_0c7d3_row20_col1\" class=\"data row20 col1\" >10</td>\n",
       "    </tr>\n",
       "    <tr>\n",
       "      <th id=\"T_0c7d3_level0_row21\" class=\"row_heading level0 row21\" >21</th>\n",
       "      <td id=\"T_0c7d3_row21_col0\" class=\"data row21 col0\" >CPU Jobs</td>\n",
       "      <td id=\"T_0c7d3_row21_col1\" class=\"data row21 col1\" >-1</td>\n",
       "    </tr>\n",
       "    <tr>\n",
       "      <th id=\"T_0c7d3_level0_row22\" class=\"row_heading level0 row22\" >22</th>\n",
       "      <td id=\"T_0c7d3_row22_col0\" class=\"data row22 col0\" >Use GPU</td>\n",
       "      <td id=\"T_0c7d3_row22_col1\" class=\"data row22 col1\" >False</td>\n",
       "    </tr>\n",
       "    <tr>\n",
       "      <th id=\"T_0c7d3_level0_row23\" class=\"row_heading level0 row23\" >23</th>\n",
       "      <td id=\"T_0c7d3_row23_col0\" class=\"data row23 col0\" >Log Experiment</td>\n",
       "      <td id=\"T_0c7d3_row23_col1\" class=\"data row23 col1\" >False</td>\n",
       "    </tr>\n",
       "    <tr>\n",
       "      <th id=\"T_0c7d3_level0_row24\" class=\"row_heading level0 row24\" >24</th>\n",
       "      <td id=\"T_0c7d3_row24_col0\" class=\"data row24 col0\" >Experiment Name</td>\n",
       "      <td id=\"T_0c7d3_row24_col1\" class=\"data row24 col1\" >clf-default-name</td>\n",
       "    </tr>\n",
       "    <tr>\n",
       "      <th id=\"T_0c7d3_level0_row25\" class=\"row_heading level0 row25\" >25</th>\n",
       "      <td id=\"T_0c7d3_row25_col0\" class=\"data row25 col0\" >USI</td>\n",
       "      <td id=\"T_0c7d3_row25_col1\" class=\"data row25 col1\" >e6ee</td>\n",
       "    </tr>\n",
       "  </tbody>\n",
       "</table>\n"
      ],
      "text/plain": [
       "<pandas.io.formats.style.Styler at 0x1d6fb44ebd0>"
      ]
     },
     "metadata": {},
     "output_type": "display_data"
    }
   ],
   "source": [
    "#1. Setup() — definir el dataset y los parámetros\n",
    "clf = setup(\n",
    " data=df, target='default', session_id=123, normalize=True, categorical_features=['vehiculo_propio', 'historia_credito', 'estado_civil'],\n",
    " fix_imbalance=True\n",
    ")"
   ]
  },
  {
   "cell_type": "code",
   "execution_count": 25,
   "id": "a0e47b8f",
   "metadata": {},
   "outputs": [
    {
     "data": {
      "text/html": [],
      "text/plain": [
       "<IPython.core.display.HTML object>"
      ]
     },
     "metadata": {},
     "output_type": "display_data"
    },
    {
     "data": {
      "text/html": [],
      "text/plain": [
       "<IPython.core.display.HTML object>"
      ]
     },
     "metadata": {},
     "output_type": "display_data"
    },
    {
     "data": {
      "text/html": [],
      "text/plain": [
       "<IPython.core.display.HTML object>"
      ]
     },
     "metadata": {},
     "output_type": "display_data"
    }
   ],
   "source": [
    "#2. Compare_models(): Comparar multiples modelos y los rankear\n",
    "best_model = compare_models()"
   ]
  },
  {
   "cell_type": "code",
   "execution_count": 24,
   "id": "fa80301e",
   "metadata": {},
   "outputs": [
    {
     "data": {
      "text/html": [],
      "text/plain": [
       "<IPython.core.display.HTML object>"
      ]
     },
     "metadata": {},
     "output_type": "display_data"
    },
    {
     "data": {
      "text/html": [],
      "text/plain": [
       "<IPython.core.display.HTML object>"
      ]
     },
     "metadata": {},
     "output_type": "display_data"
    },
    {
     "data": {
      "text/html": [],
      "text/plain": [
       "<IPython.core.display.HTML object>"
      ]
     },
     "metadata": {},
     "output_type": "display_data"
    },
    {
     "name": "stdout",
     "output_type": "stream",
     "text": [
      "Fitting 10 folds for each of 4 candidates, totalling 40 fits\n"
     ]
    }
   ],
   "source": [
    "# 3. El modelo ya se creó \n",
    "#4. Tune_model(): Ajuste automático de hiperparámetros\n",
    "tuned_model = tune_model(best_model, optimize='F1')"
   ]
  },
  {
   "cell_type": "code",
   "execution_count": null,
   "id": "d905d7aa",
   "metadata": {},
   "outputs": [
    {
     "data": {
      "application/vnd.jupyter.widget-view+json": {
       "model_id": "65187d4563f6458c843a332666ecbab4",
       "version_major": 2,
       "version_minor": 0
      },
      "text/plain": [
       "interactive(children=(ToggleButtons(description='Plot Type:', icons=('',), options=(('Pipeline Plot', 'pipelin…"
      ]
     },
     "metadata": {},
     "output_type": "display_data"
    }
   ],
   "source": [
    "#5. plot_model(): visualizar el desempeño del modelo\n",
    "#6. Evaluate_model(): Evaluación del modelo\n",
    "evaluate_model(tuned_model)"
   ]
  },
  {
   "cell_type": "code",
   "execution_count": null,
   "id": "abb39d50",
   "metadata": {},
   "outputs": [],
   "source": [
    "#7. Predict_model(): Predicciones sobre nuevos datos en el DF\n",
    "preds_tuned = predict_model(tuned_model)\n",
    "print(preds_tuned.head())"
   ]
  },
  {
   "cell_type": "code",
   "execution_count": null,
   "id": "c41b88b3",
   "metadata": {},
   "outputs": [],
   "source": [
    "#8. Save_model/load_model(): Guardar y cargar el modelo\n",
    "save_model(best_model, 'modelo_credito_tuned_final')\n"
   ]
  },
  {
   "cell_type": "markdown",
   "id": "64972385",
   "metadata": {},
   "source": [
    "CONCLUSIONES 2:\n",
    "\n",
    "1. Antes del tuning, la regresión logistica tuvo un rendimiento regular, con una exactitud de 0.57 más o menos.\n",
    "\n",
    "2. Al aplicar el tuning, subió un poco a 0.61, asi que mejoro ligeramente.\n",
    "\n",
    "3. El AUC sigue en 0.50, o sea que el modelo todavía no logra diferenciar bien las clases, tambien el F1 bajó un poco, así que el ajuste no ayudo mucho en el balance entre precisiOn y recall.\n",
    "\n",
    "4. De forma general tuvo una mejora minima, se podría probar con otros modelos pero por el momento el adeucado es el escogido."
   ]
  }
 ],
 "metadata": {
  "kernelspec": {
   "display_name": "Python 3",
   "language": "python",
   "name": "python3"
  },
  "language_info": {
   "codemirror_mode": {
    "name": "ipython",
    "version": 3
   },
   "file_extension": ".py",
   "mimetype": "text/x-python",
   "name": "python",
   "nbconvert_exporter": "python",
   "pygments_lexer": "ipython3",
   "version": "3.11.9"
  }
 },
 "nbformat": 4,
 "nbformat_minor": 5
}
